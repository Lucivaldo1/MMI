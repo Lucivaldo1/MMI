{
 "cells": [
  {
   "cell_type": "code",
   "id": "initial_id",
   "metadata": {
    "collapsed": true,
    "ExecuteTime": {
     "end_time": "2024-11-09T21:03:08.770146Z",
     "start_time": "2024-11-09T21:03:08.766766Z"
    }
   },
   "source": [
    "import sys, os\n",
    "import numpy as np\n",
    "import matplotlib.pyplot as plt\n",
    "from dslab import adguide #source: https://github.com/adophobr/PhotonicIntegratedCircuits/blob/main/jupyter/utils/dslab.py\n",
    "import warnings\n",
    "sys.path.append('C:\\\\Program Files\\\\Lumerical\\\\v221\\\\api\\\\python')\n",
    "sys.path.append('C:\\\\Program Files\\\\Lumerical\\\\v221\\\\api\\\\python\\\\lumapi.py')\n",
    "from scipy.constants import c"
   ],
   "outputs": [],
   "execution_count": 94
  },
  {
   "metadata": {
    "ExecuteTime": {
     "end_time": "2024-11-09T21:03:11.217804Z",
     "start_time": "2024-11-09T21:03:08.777157Z"
    }
   },
   "cell_type": "code",
   "source": [
    "warnings.filterwarnings(\"ignore\", category=SyntaxWarning)\n",
    "import lumapi\n",
    "fdtdApi = lumapi.FDTD()"
   ],
   "id": "a44edca72efeff86",
   "outputs": [],
   "execution_count": 95
  },
  {
   "metadata": {},
   "cell_type": "markdown",
   "source": "Units",
   "id": "6bb6aab2fc263f00"
  },
  {
   "metadata": {
    "ExecuteTime": {
     "end_time": "2024-11-09T21:03:11.363941Z",
     "start_time": "2024-11-09T21:03:11.359851Z"
    }
   },
   "cell_type": "code",
   "source": [
    "um = 1e-6\n",
    "nm = 1e-9"
   ],
   "id": "5cd5ad9af047f151",
   "outputs": [],
   "execution_count": 96
  },
  {
   "metadata": {},
   "cell_type": "markdown",
   "source": "Materials",
   "id": "aa8007aac8ea112b"
  },
  {
   "metadata": {
    "ExecuteTime": {
     "end_time": "2024-11-09T21:03:12.334945Z",
     "start_time": "2024-11-09T21:03:11.372454Z"
    }
   },
   "cell_type": "code",
   "source": [
    "materialClad = \"SiO2 (Glass) - Dispersive & Lossless\"\n",
    "materialSi = \"Si (Silicon) - Dispersive & Lossless\"\n",
    "\n",
    "# Add material\n",
    "matname = materialSi\n",
    "\n",
    "fdtdApi.addmaterial(\"Lorentz\")\n",
    "fdtdApi.setmaterial('New material 1', \"Name\", matname)\n",
    "fdtdApi.setmaterial(matname, \"Permittivity\", 7.9837492)\n",
    "fdtdApi.setmaterial(matname, \"Lorentz Linewidth\", 1e8)\n",
    "fdtdApi.setmaterial(matname, \"Lorentz Resonance\", 3.93282466e+15)\n",
    "fdtdApi.setmaterial(matname, \"Lorentz Permittivity\", 3.68799143)\n",
    "fdtdApi.setmaterial(matname, \"color\", np.array([0.85, 0, 0, 1])) # red"
   ],
   "id": "b7f97536bcaf9377",
   "outputs": [],
   "execution_count": 97
  },
  {
   "metadata": {
    "ExecuteTime": {
     "end_time": "2024-11-09T21:03:13.324041Z",
     "start_time": "2024-11-09T21:03:12.349231Z"
    }
   },
   "cell_type": "code",
   "source": [
    "matname = materialClad\n",
    "fdtdApi.addmaterial(\"Lorentz\")\n",
    "fdtdApi.setmaterial('New material 1', \"Name\", matname)\n",
    "fdtdApi.setmaterial(matname, \"Permittivity\", 2.119881)\n",
    "fdtdApi.setmaterial(matname, \"Lorentz Linewidth\", 1e10)\n",
    "fdtdApi.setmaterial(matname, \"Lorentz Resonance\", 3.309238e+13)\n",
    "fdtdApi.setmaterial(matname, \"Lorentz Permittivity\", 49.43721)\n",
    "fdtdApi.setmaterial(matname, \"color\", np.array([0.5, 0.5, 0.5, 1])) # grey"
   ],
   "id": "f13b2356ee60cfd1",
   "outputs": [],
   "execution_count": 98
  },
  {
   "metadata": {},
   "cell_type": "markdown",
   "source": "Dimensions",
   "id": "9c08638fbb76c587"
  },
  {
   "metadata": {
    "ExecuteTime": {
     "end_time": "2024-11-09T21:03:13.334009Z",
     "start_time": "2024-11-09T21:03:13.331458Z"
    }
   },
   "cell_type": "code",
   "source": [
    "Wm = 7*um\n",
    "L  = 42.5*um #obtained via EME and varFDTD simulations\n",
    "#tapers\n",
    "taper_large_tip = 1.5 * um\n",
    "taper_length = 15 * um\n",
    "#slabs \n",
    "width = 450 * nm\n",
    "height = 220 * nm\n",
    "length = 5 * um\n",
    "cband = True\n",
    "# C band simulation: 1520 ~ 1575 nm\n",
    "# L band simulation: 1555 ~ 1635 nm\n",
    "if cband:\n",
    "    wl_start = 1520 * nm\n",
    "    wl_stop = 1575 * nm\n",
    "else:\n",
    "    wl_start = 1555 * nm\n",
    "    wl_stop = 1635 * nm\n"
   ],
   "id": "45dfa60679a4c958",
   "outputs": [],
   "execution_count": 99
  },
  {
   "metadata": {
    "ExecuteTime": {
     "end_time": "2024-11-09T21:03:13.621931Z",
     "start_time": "2024-11-09T21:03:13.341048Z"
    }
   },
   "cell_type": "code",
   "source": [
    "fdtdApi.switchtolayout()\n",
    "fdtdApi.deleteall()\n",
    "fdtdApi.cleardcard"
   ],
   "id": "c7c68b22618db69d",
   "outputs": [
    {
     "data": {
      "text/plain": [
       "<bound method Lumerical.__init__.<locals>.<lambda>.<locals>.<lambda> of <lumapi.FDTD object at 0x000001F76E84DBB0>>"
      ]
     },
     "execution_count": 100,
     "metadata": {},
     "output_type": "execute_result"
    }
   ],
   "execution_count": 100
  },
  {
   "metadata": {
    "ExecuteTime": {
     "end_time": "2024-11-09T21:03:14.312045Z",
     "start_time": "2024-11-09T21:03:13.628998Z"
    }
   },
   "cell_type": "code",
   "source": [
    "fdtdApi.addstructuregroup()\n",
    "dev_layer = 'GDS_LAYER_35:4'\n",
    "fdtdApi.set('name', dev_layer)\n",
    "filename = 'FDTD_mmi_2x2_TE.dat'"
   ],
   "id": "f4d023a80e07cf0f",
   "outputs": [],
   "execution_count": 101
  },
  {
   "metadata": {},
   "cell_type": "markdown",
   "source": "Box",
   "id": "fc667b7664b30b8f"
  },
  {
   "metadata": {
    "ExecuteTime": {
     "end_time": "2024-11-09T21:03:16.126841Z",
     "start_time": "2024-11-09T21:03:14.330939Z"
    }
   },
   "cell_type": "code",
   "source": [
    "fdtdApi.addrect()\n",
    "fdtdApi.addtogroup(dev_layer)\n",
    "fdtdApi.set('name','box')\n",
    "fdtdApi.set('x',0)\n",
    "fdtdApi.set('x span', L)\n",
    "fdtdApi.set('y',0)\n",
    "fdtdApi.set('y span', Wm)\n",
    "fdtdApi.set('z',height/2)\n",
    "fdtdApi.set('z span', height)\n",
    "fdtdApi.set('material', materialSi)"
   ],
   "id": "2c7324586970bfa3",
   "outputs": [],
   "execution_count": 102
  },
  {
   "metadata": {},
   "cell_type": "markdown",
   "source": "Tapers",
   "id": "acd9da6be02729a1"
  },
  {
   "metadata": {
    "ExecuteTime": {
     "end_time": "2024-11-09T21:03:27.886375Z",
     "start_time": "2024-11-09T21:03:16.139965Z"
    }
   },
   "cell_type": "code",
   "source": [
    "for i in range(4):\n",
    "    fdtdApi.addobject('linear_taper')\n",
    "    fdtdApi.set('name', f'taper port {str(i+1)}')\n",
    "    fdtdApi.set('thickness', height)\n",
    "    fdtdApi.set('angle_side', 90)\n",
    "    fdtdApi.set('width_l', width)\n",
    "    fdtdApi.set('width_r', taper_large_tip)\n",
    "    fdtdApi.set('len', taper_length)\n",
    "    fdtdApi.set('material', materialSi)\n",
    "    fdtdApi.set('x', -(fdtdApi.getnamed(f'{dev_layer}::box', 'x max') + taper_length/2))\n",
    "    fdtdApi.set('y', Wm/4)\n",
    "    fdtdApi.set('z', height/2)"
   ],
   "id": "d6b086394e1b4473",
   "outputs": [],
   "execution_count": 103
  },
  {
   "metadata": {
    "ExecuteTime": {
     "end_time": "2024-11-09T21:03:29.844702Z",
     "start_time": "2024-11-09T21:03:27.901749Z"
    }
   },
   "cell_type": "code",
   "source": [
    "#adjusting port 2\n",
    "fdtdApi.select(f'{dev_layer}::taper port 2')\n",
    "fdtdApi.set('width_l', taper_large_tip)\n",
    "fdtdApi.set('width_r', width)\n",
    "fdtdApi.set('x', fdtdApi.getnamed(f'{dev_layer}::box', 'x max') + taper_length/2)\n",
    "fdtdApi.set('y', Wm/4)\n",
    "\n",
    "##adjusting port 3\n",
    "fdtdApi.select(f'{dev_layer}::taper port 3')\n",
    "fdtdApi.set('width_l', taper_large_tip)\n",
    "fdtdApi.set('width_r', width)\n",
    "fdtdApi.set('x', fdtdApi.getnamed(f'{dev_layer}::box', 'x max') + taper_length/2)\n",
    "fdtdApi.set('y', -Wm/4)\n",
    "#adjusting port 4\n",
    "\n",
    "fdtdApi.select(f'{dev_layer}::taper port 4')\n",
    "fdtdApi.set('y', -Wm/4)"
   ],
   "id": "7451c447639ff2fc",
   "outputs": [],
   "execution_count": 104
  },
  {
   "metadata": {},
   "cell_type": "markdown",
   "source": "Waveguides",
   "id": "8502a39bc50c61e7"
  },
  {
   "metadata": {
    "ExecuteTime": {
     "end_time": "2024-11-09T21:03:37.633974Z",
     "start_time": "2024-11-09T21:03:29.859519Z"
    }
   },
   "cell_type": "code",
   "source": [
    "for i in range(4):\n",
    "    fdtdApi.addrect()\n",
    "    fdtdApi.addtogroup(dev_layer)\n",
    "    fdtdApi.set('name', f'port {str(i+1)}')\n",
    "    fdtdApi.set('x', -(fdtdApi.getnamed(f'{dev_layer}::box', 'x max') + taper_length + length/2))\n",
    "    fdtdApi.set('x span', length)\n",
    "    fdtdApi.set('y', Wm/4)\n",
    "    fdtdApi.set('y span', width)\n",
    "    fdtdApi.set('z', height/2)\n",
    "    fdtdApi.set('z span', height)\n",
    "    fdtdApi.set('material', materialSi)"
   ],
   "id": "4503389b97bebb87",
   "outputs": [],
   "execution_count": 105
  },
  {
   "metadata": {
    "ExecuteTime": {
     "end_time": "2024-11-09T21:03:38.896845Z",
     "start_time": "2024-11-09T21:03:37.646607Z"
    }
   },
   "cell_type": "code",
   "source": [
    "#adjusting\n",
    "fdtdApi.select(f'{dev_layer}::port 2')\n",
    "fdtdApi.set('x', (fdtdApi.getnamed(f'{dev_layer}::box', 'x max') + taper_length + length/2))\n",
    "\n",
    "fdtdApi.select(f'{dev_layer}::port 3')\n",
    "fdtdApi.set('x', (fdtdApi.getnamed(f'{dev_layer}::box', 'x max') + taper_length + length/2))\n",
    "fdtdApi.set('y', -Wm/4)\n",
    "\n",
    "fdtdApi.select(f'{dev_layer}::port 4')\n",
    "fdtdApi.set('y',-Wm/4)"
   ],
   "id": "d906beb9f62f7e21",
   "outputs": [],
   "execution_count": 106
  },
  {
   "metadata": {},
   "cell_type": "markdown",
   "source": "Adding solver",
   "id": "e9f1f8ce4dcaf019"
  },
  {
   "metadata": {
    "ExecuteTime": {
     "end_time": "2024-11-09T21:38:17.950451Z",
     "start_time": "2024-11-09T21:38:17.940711Z"
    }
   },
   "cell_type": "code",
   "source": [
    "#simulation time\n",
    "simulation_time = (L + 2*taper_length * 2*length)*7/c+200e-15\n",
    "#position\n",
    "x_FDTD = 0\n",
    "y_FDTD = 0\n",
    "z_FDTD = 0\n",
    "#span\n",
    "x_span_FDTD = (L + 2*taper_length + length) + 1*um\n",
    "y_span_FDTD = Wm + 0.25*Wm\n",
    "z_span_FDTD = height + 0.25*height\n",
    "#material\n",
    "background_material = materialClad\n",
    "nmbFrqPts = 20\n",
    "mesh_accuracy = 1"
   ],
   "id": "1c0dd7298228e84c",
   "outputs": [],
   "execution_count": 125
  },
  {
   "metadata": {
    "ExecuteTime": {
     "end_time": "2024-11-09T21:03:38.929296Z",
     "start_time": "2024-11-09T21:03:38.926591Z"
    }
   },
   "cell_type": "code",
   "source": [
    "#ports parameters\n",
    "y_port_off = 0.5*um\n",
    "\n",
    "x_span_port = 4*um\n",
    "z_span_port = 4*um\n",
    "#ports positions\n",
    "x_ports_positions = np.array([-(L/2 + taper_length + length/2),(L/2 + taper_length + length/2),(L/2 + taper_length + length/2),-(L/2 + taper_length + length/2)])\n",
    "y_ports_positions = np.array([Wm/4, Wm/4, -Wm/4, -Wm/4])\n",
    "mode_selection = 'fundamental TE mode'\n",
    "injection_axis = 'x-axis'"
   ],
   "id": "d3addc3e28984c4c",
   "outputs": [],
   "execution_count": 108
  },
  {
   "metadata": {},
   "cell_type": "markdown",
   "source": "Solver",
   "id": "9556d10d2f914c4b"
  },
  {
   "metadata": {
    "ExecuteTime": {
     "end_time": "2024-11-09T21:03:41.523673Z",
     "start_time": "2024-11-09T21:03:38.937141Z"
    }
   },
   "cell_type": "code",
   "source": [
    "fdtdApi.addfdtd()\n",
    "fdtdApi.set('x', x_FDTD)\n",
    "fdtdApi.set('x span',x_span_FDTD)\n",
    "fdtdApi.set('y', y_FDTD)\n",
    "fdtdApi.set('y span',y_span_FDTD)\n",
    "fdtdApi.set('z', z_FDTD)\n",
    "fdtdApi.set('z span',z_span_FDTD)\n",
    "fdtdApi.set('background material', background_material)\n",
    "fdtdApi.set('mesh accuracy', mesh_accuracy)\n",
    "#boundary conditions\n",
    "fdtdApi.set('x min bc', 'PML')\n",
    "fdtdApi.set('x max bc', 'PML')\n",
    "fdtdApi.set('y min bc', 'PML')\n",
    "fdtdApi.set('y max bc', 'PML')\n",
    "fdtdApi.set('z min bc', 'Symmetric')\n",
    "fdtdApi.set('z max bc', 'PML')"
   ],
   "id": "c2d63c19f98d5b34",
   "outputs": [],
   "execution_count": 109
  },
  {
   "metadata": {},
   "cell_type": "markdown",
   "source": "Ports",
   "id": "1bd527cdab19f27"
  },
  {
   "metadata": {
    "ExecuteTime": {
     "end_time": "2024-11-09T21:06:03.453622Z",
     "start_time": "2024-11-09T21:05:57.851372Z"
    }
   },
   "cell_type": "code",
   "source": [
    "for i in range(4):\n",
    "    fdtdApi.addport()\n",
    "    fdtdApi.set('name', f'port {str(i+1)}')\n",
    "    fdtdApi.set('injection axis', injection_axis)\n",
    "    fdtdApi.set('mode selection', mode_selection)\n",
    "    fdtdApi.set('x', x_ports_positions[i])\n",
    "    fdtdApi.set('y', y_ports_positions[i])\n",
    "    fdtdApi.set('z', 0)\n",
    "    fdtdApi.set('x span', x_span_port)\n",
    "    fdtdApi.set('y span', 2*um)\n",
    "    fdtdApi.set('z span', z_span_port)"
   ],
   "id": "b4c99151cdfd6589",
   "outputs": [],
   "execution_count": 112
  },
  {
   "metadata": {
    "ExecuteTime": {
     "end_time": "2024-11-09T21:11:33.014161Z",
     "start_time": "2024-11-09T21:11:31.492644Z"
    }
   },
   "cell_type": "code",
   "source": [
    "fdtdApi.addprofile()\n",
    "fdtdApi.set('override global monitor settings', True)\n",
    "fdtdApi.set('frequency points', nmbFrqPts)\n",
    "fdtdApi.set('x', x_FDTD)\n",
    "fdtdApi.set('x span', x_span_FDTD)\n",
    "fdtdApi.set('y', y_FDTD)\n",
    "fdtdApi.set('y span', y_span_FDTD)\n",
    "fdtdApi.set('z', 0)\n"
   ],
   "id": "98b0eb2abce97de0",
   "outputs": [],
   "execution_count": 117
  },
  {
   "metadata": {
    "ExecuteTime": {
     "end_time": "2024-11-09T21:19:36.937748Z",
     "start_time": "2024-11-09T21:19:36.590699Z"
    }
   },
   "cell_type": "code",
   "source": [
    "fdtdApi.setnamed('FDTD','global source wavelength start', wl_start)\n",
    "fdtdApi.setnamed('FDTD','global source wavelength stop', wl_stop)\n",
    "fdtdApi.setnamed('FDTD::ports','monitor frequency points',nmbFrqPts)"
   ],
   "id": "78ed125bdab9c60",
   "outputs": [],
   "execution_count": 121
  },
  {
   "metadata": {
    "ExecuteTime": {
     "end_time": "2024-11-09T21:19:40.080726Z",
     "start_time": "2024-11-09T21:19:39.202295Z"
    }
   },
   "cell_type": "code",
   "source": "fdtdApi.save(filename)",
   "id": "8f3f08d3cb14f769",
   "outputs": [],
   "execution_count": 122
  },
  {
   "metadata": {
    "ExecuteTime": {
     "end_time": "2024-11-09T21:40:03.436764Z",
     "start_time": "2024-11-09T21:40:03.326352Z"
    }
   },
   "cell_type": "code",
   "source": "fdtdApi.run(3)",
   "id": "b09c8dd881931753",
   "outputs": [
    {
     "ename": "LumApiError",
     "evalue": "'run can have at most 1 argument when first argument is a string'",
     "output_type": "error",
     "traceback": [
      "\u001B[1;31m---------------------------------------------------------------------------\u001B[0m",
      "\u001B[1;31mLumApiError\u001B[0m                               Traceback (most recent call last)",
      "Cell \u001B[1;32mIn[131], line 1\u001B[0m\n\u001B[1;32m----> 1\u001B[0m \u001B[38;5;28mprint\u001B[39m(\u001B[43mfdtdApi\u001B[49m\u001B[38;5;241;43m.\u001B[39;49m\u001B[43mrun\u001B[49m\u001B[43m(\u001B[49m\u001B[38;5;124;43m'\u001B[39;49m\u001B[38;5;124;43mFDTD\u001B[39;49m\u001B[38;5;124;43m'\u001B[39;49m\u001B[43m,\u001B[49m\u001B[38;5;124;43m'\u001B[39;49m\u001B[38;5;124;43mGPU\u001B[39;49m\u001B[38;5;124;43m'\u001B[39;49m\u001B[43m)\u001B[49m)\n",
      "File \u001B[1;32mC:\\Program Files\\Lumerical\\v221\\api\\python\\lumapi.py:1153\u001B[0m, in \u001B[0;36mLumerical.__init__.<locals>.<lambda>\u001B[1;34m(self, *args)\u001B[0m\n\u001B[0;32m   1150\u001B[0m     method \u001B[38;5;241m=\u001B[39m (\u001B[38;5;28;01mlambda\u001B[39;00m x: \u001B[38;5;28;01mlambda\u001B[39;00m \u001B[38;5;28mself\u001B[39m, \u001B[38;5;241m*\u001B[39margs, \u001B[38;5;241m*\u001B[39m\u001B[38;5;241m*\u001B[39mkwargs:\n\u001B[0;32m   1151\u001B[0m     appCallWithConstructor(\u001B[38;5;28mself\u001B[39m, x, args, \u001B[38;5;241m*\u001B[39m\u001B[38;5;241m*\u001B[39mkwargs))(name)\n\u001B[0;32m   1152\u001B[0m \u001B[38;5;28;01melse\u001B[39;00m:\n\u001B[1;32m-> 1153\u001B[0m     method \u001B[38;5;241m=\u001B[39m (\u001B[38;5;28;01mlambda\u001B[39;00m x: \u001B[38;5;28;01mlambda\u001B[39;00m \u001B[38;5;28mself\u001B[39m, \u001B[38;5;241m*\u001B[39margs: \u001B[43mappCall\u001B[49m\u001B[43m(\u001B[49m\u001B[38;5;28;43mself\u001B[39;49m\u001B[43m,\u001B[49m\u001B[43m \u001B[49m\u001B[43mx\u001B[49m\u001B[43m,\u001B[49m\u001B[43m \u001B[49m\u001B[43margs\u001B[49m\u001B[43m)\u001B[49m)(name)\n\u001B[0;32m   1154\u001B[0m method\u001B[38;5;241m.\u001B[39m\u001B[38;5;18m__name__\u001B[39m \u001B[38;5;241m=\u001B[39m \u001B[38;5;28mstr\u001B[39m(name)\n\u001B[0;32m   1155\u001B[0m \u001B[38;5;28;01mtry\u001B[39;00m:\n",
      "File \u001B[1;32mC:\\Program Files\\Lumerical\\v221\\api\\python\\lumapi.py:800\u001B[0m, in \u001B[0;36mappCall\u001B[1;34m(self, name, *args)\u001B[0m\n\u001B[0;32m    798\u001B[0m         argLumTypes \u001B[38;5;241m=\u001B[39m lumTypes(\u001B[38;5;28mlist\u001B[39m(args[\u001B[38;5;241m0\u001B[39m]))\n\u001B[0;32m    799\u001B[0m         message \u001B[38;5;241m+\u001B[39m\u001B[38;5;241m=\u001B[39m (\u001B[38;5;124m\"\u001B[39m\u001B[38;5;124m - \u001B[39m\u001B[38;5;124m\"\u001B[39m \u001B[38;5;241m+\u001B[39m name \u001B[38;5;241m+\u001B[39m \u001B[38;5;124m\"\u001B[39m\u001B[38;5;124m arguments were converted to (\u001B[39m\u001B[38;5;124m\"\u001B[39m \u001B[38;5;241m+\u001B[39m \u001B[38;5;124m\"\u001B[39m\u001B[38;5;124m, \u001B[39m\u001B[38;5;124m\"\u001B[39m\u001B[38;5;241m.\u001B[39mjoin(argLumTypes) \u001B[38;5;241m+\u001B[39m \u001B[38;5;124m\"\u001B[39m\u001B[38;5;124m)\u001B[39m\u001B[38;5;124m\"\u001B[39m)\n\u001B[1;32m--> 800\u001B[0m     \u001B[38;5;28;01mraise\u001B[39;00m LumApiError(message)\n\u001B[0;32m    801\u001B[0m \u001B[38;5;28;01mif\u001B[39;00m \u001B[38;5;28misinstance\u001B[39m(rvals[\u001B[38;5;241m0\u001B[39m], \u001B[38;5;28mstr\u001B[39m) \u001B[38;5;129;01mand\u001B[39;00m (rvals[\u001B[38;5;241m0\u001B[39m] \u001B[38;5;241m==\u001B[39m \u001B[38;5;124m\"\u001B[39m\u001B[38;5;124md6d8d1b2c083c251\u001B[39m\u001B[38;5;124m\"\u001B[39m):\n\u001B[0;32m    802\u001B[0m     rvals[\u001B[38;5;241m0\u001B[39m] \u001B[38;5;241m=\u001B[39m \u001B[38;5;28;01mNone\u001B[39;00m\n",
      "\u001B[1;31mLumApiError\u001B[0m: 'run can have at most 1 argument when first argument is a string'"
     ]
    }
   ],
   "execution_count": 131
  }
 ],
 "metadata": {
  "kernelspec": {
   "display_name": "Python 3",
   "language": "python",
   "name": "python3"
  },
  "language_info": {
   "codemirror_mode": {
    "name": "ipython",
    "version": 2
   },
   "file_extension": ".py",
   "mimetype": "text/x-python",
   "name": "python",
   "nbconvert_exporter": "python",
   "pygments_lexer": "ipython2",
   "version": "2.7.6"
  }
 },
 "nbformat": 4,
 "nbformat_minor": 5
}
